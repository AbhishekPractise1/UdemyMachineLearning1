{
 "cells": [
  {
   "cell_type": "markdown",
   "metadata": {},
   "source": [
    "# Pandas : \n",
    "explore data , manipulate data and get it ready for Data Analysis <br>\n",
    "\n",
    "<b>Why Pandas ?</b> <br>\n",
    ">Simple to use <br>\n",
    "> Integrated with many other data science & Ml python tools<br>\n",
    "> Helps you get data ready for machine learning<br>\n",
    "\n",
    "\n",
    "<b>What are we going to cover in this section :</b> <br>\n",
    ">Most useful functions<br>\n",
    ">Pandas Datatypes<br>\n",
    ">Importing & exporting data<br>\n",
    ">Describing data ## statiscally <br>\n",
    ">Viewing & selecting data<br>\n",
    ">Manipulating data<br>\n",
    "                            \n"
   ]
  },
  {
   "cell_type": "code",
   "execution_count": null,
   "metadata": {},
   "outputs": [],
   "source": []
  }
 ],
 "metadata": {
  "kernelspec": {
   "display_name": "Python 3",
   "language": "python",
   "name": "python3"
  },
  "language_info": {
   "codemirror_mode": {
    "name": "ipython",
    "version": 3
   },
   "file_extension": ".py",
   "mimetype": "text/x-python",
   "name": "python",
   "nbconvert_exporter": "python",
   "pygments_lexer": "ipython3",
   "version": "3.8.5"
  }
 },
 "nbformat": 4,
 "nbformat_minor": 4
}
